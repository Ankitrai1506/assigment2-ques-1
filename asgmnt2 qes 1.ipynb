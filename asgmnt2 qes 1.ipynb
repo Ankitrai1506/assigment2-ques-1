{
 "cells": [
  {
   "cell_type": "code",
   "execution_count": 17,
   "id": "4d1c838b",
   "metadata": {},
   "outputs": [
    {
     "name": "stdout",
     "output_type": "stream",
     "text": [
      "enter the number in form of list:[(2,5),(1,3),(3,2),(4,1),(5,4)]\n"
     ]
    },
    {
     "data": {
      "text/plain": [
       "[(4, 1), (3, 2), (1, 3), (5, 4), (2, 5)]"
      ]
     },
     "execution_count": 17,
     "metadata": {},
     "output_type": "execute_result"
    }
   ],
   "source": [
    "new_list=input(\"enter the number in form of list:\")# like[(2,3),(12,10)]\n",
    "from ast import literal_eval\n",
    "new_list=literal_eval(new_list)\n",
    "\n",
    "def get_second_element(x):\n",
    "    return x[1]\n",
    "sorted(new_list,key=lambda x:get_second_element(x))"
   ]
  },
  {
   "cell_type": "code",
   "execution_count": null,
   "id": "177f6af1",
   "metadata": {},
   "outputs": [],
   "source": []
  }
 ],
 "metadata": {
  "kernelspec": {
   "display_name": "Python 3 (ipykernel)",
   "language": "python",
   "name": "python3"
  },
  "language_info": {
   "codemirror_mode": {
    "name": "ipython",
    "version": 3
   },
   "file_extension": ".py",
   "mimetype": "text/x-python",
   "name": "python",
   "nbconvert_exporter": "python",
   "pygments_lexer": "ipython3",
   "version": "3.10.9"
  }
 },
 "nbformat": 4,
 "nbformat_minor": 5
}
